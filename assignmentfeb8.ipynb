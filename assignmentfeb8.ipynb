{
 "cells": [
  {
   "cell_type": "markdown",
   "id": "8a56a0f5-c31f-4d28-9efc-7f5208c8ee4b",
   "metadata": {},
   "source": [
    "Q1. What is Abstraction in OOps? Explain with an example."
   ]
  },
  {
   "cell_type": "markdown",
   "id": "696fb22c-cbfb-4e71-9234-1aa44bc1a538",
   "metadata": {},
   "source": [
    "Abstraction is used to hide the internal functionality of the function from the users. The users only interact with the basic implementation of the function, but inner working is hidden. User is familiar with that \"what function does\" but they don't know \"how it does.\"\n",
    "In simple words, we all use the smartphone and very much familiar with its functions such as camera, voice-recorder, call-dialing, etc., but we don't know how these operations are happening in the background\n",
    "\n",
    "ex- from abc import ABC  \n",
    "\n",
    "    class ClassName(ABC):\n",
    "    class Car(ABC):\n",
    "       def mileage(self):   \n",
    "        pass  \n",
    "  \n",
    "     class Tesla(Car):   \n",
    "    def mileage(self):   \n",
    "        print(\"The mileage is 30kmph\") \n",
    "        \n",
    "        input\n",
    "        t= Tesla ()   \n",
    "        t.mileage()  \n"
   ]
  },
  {
   "cell_type": "markdown",
   "id": "57a6a54b-bada-4cc7-8e6d-ed2566a0e5ff",
   "metadata": {},
   "source": [
    "Q2. Differentiate between Abstraction and Encapsulation. Explain with an example."
   ]
  },
  {
   "cell_type": "markdown",
   "id": "0a946b05-967c-4880-9f65-87a2187af5c0",
   "metadata": {},
   "source": [
    "Definition\n",
    "Abstraction is hiding the details and implementation of the code.\n",
    "Encapsulation is hiding the data and controlling the visibility of the code.\n",
    "\n",
    "Abstraction is a design level process.\n",
    "Encapsulation is an implementation level process.\n",
    "\n",
    "Abstraction is concerned about what a class instance can do, instead of the implementation of the class.\n",
    "Encapsulation helps in data binding and control over maintaining the transparency of the data.\n",
    "\n",
    "Abstraction is a design level process and it is used to reduce the complexity at the designing stage of a project.\n",
    "Encapsulation is an implementation level process, and it is used to provide privacy and maintain control over the transparency of data at the implementation stage of a project.\n",
    "\n",
    "ex-Abstraction is used in mobile phones’ GUI. When you click on the icons, abstraction allows them to perform specific functions. Let’s look at the encapsulation example to clarify the Encapsulation vs Abstraction. After the icon is clicked, the encapsulation works in the backend to guide the user on the next steps."
   ]
  },
  {
   "cell_type": "markdown",
   "id": "67b7614c-2e06-4acf-b466-a474a5f5e738",
   "metadata": {},
   "source": [
    "Q3. What is abc module in python? Why is it used?"
   ]
  },
  {
   "cell_type": "markdown",
   "id": "3931e0e9-56ae-42be-ab66-53d5ab6c77ba",
   "metadata": {},
   "source": [
    "abc is called an Abstract class .It contains one or more abstract methods. An abstract method is a method that is declared, but contains no implementation. Abstract classes may not be instantiated, and its abstract methods must be implemented by its subclasses.\n",
    "Abstract base classes provide a way to define interfaces when other techniques like hasattr() would be clumsy or subtly wrong (for example with magic methods). ABCs introduce virtual subclasses, which are classes that don’t inherit from a class but are still recognized by isinstance() and issubclass() functions. There are many built-in ABCs in Python. ABCs for Data structures like Iterator, Generator, Set, mapping etc. are defined in collections.abc module.The numbers module defines numeric tower which is a collection of base classes for numeric data types. The 'abc' module in Python library provides the infrastructure for defining custom abstract base classesThe abc module defines ABCMeta class which is a metaclass for defining abstract base class. "
   ]
  },
  {
   "cell_type": "markdown",
   "id": "a1f72847-e198-461f-9192-f42b41c46e64",
   "metadata": {},
   "source": [
    "Q4. How can we achieve data abstraction?"
   ]
  },
  {
   "cell_type": "markdown",
   "id": "2a7ce63f-a0b7-4df2-a1e6-85bb702a06b3",
   "metadata": {},
   "source": [
    "In Python, abstraction can be achieved by having/using abstract classes and methods in our programs.\n",
    "\n",
    "Abstract Methods and Classes: An abstract method is a method that is declared, but does not contain implementation. An abstract method in a base class identifies the functionality that should be implemented by all its subclasses.\n",
    "\n",
    "Python provides the abc module to use the abstraction in the Python program, syntax as:  from abc import ABC,   \n",
    "class ClassName(ABC):\n",
    "To use Python Abstract Base Classes (ABCs), one needs to import ABCMeta and abstractmethod from the abc module. \n"
   ]
  },
  {
   "cell_type": "markdown",
   "id": "9a4718a3-ef4f-473f-b0d2-fe8f8d0f59e0",
   "metadata": {},
   "source": [
    "Q5. Can we create an instance of an abstract class? Explain your answer."
   ]
  },
  {
   "cell_type": "markdown",
   "id": "dfe5ee21-bdf1-48d4-84e5-f6e17354358c",
   "metadata": {},
   "source": [
    "Abstract classes are not complete, as they may have some methods that are not defined. So we cannot create an instance or object of an abstract class in Python. If we try to instantiate the abstract class, it raises an error.\n",
    "\n",
    "from Shape import Shape\n",
    " \n",
    "try :\n",
    "    shape = Shape()\n",
    "except Exception as error:\n",
    "    print(\"===========ERROR OCCURRED===============\")\n",
    "    print(error)\n",
    "    "
   ]
  }
 ],
 "metadata": {
  "kernelspec": {
   "display_name": "Python 3 (ipykernel)",
   "language": "python",
   "name": "python3"
  },
  "language_info": {
   "codemirror_mode": {
    "name": "ipython",
    "version": 3
   },
   "file_extension": ".py",
   "mimetype": "text/x-python",
   "name": "python",
   "nbconvert_exporter": "python",
   "pygments_lexer": "ipython3",
   "version": "3.10.8"
  }
 },
 "nbformat": 4,
 "nbformat_minor": 5
}
